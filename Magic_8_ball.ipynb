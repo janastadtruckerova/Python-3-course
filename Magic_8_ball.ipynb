{
  "nbformat": 4,
  "nbformat_minor": 0,
  "metadata": {
    "colab": {
      "name": "Magic 8 - ball.ipynb",
      "provenance": [],
      "authorship_tag": "ABX9TyMQr2RhnyRNIJzg//12ToEZ",
      "include_colab_link": true
    },
    "kernelspec": {
      "name": "python3",
      "display_name": "Python 3"
    },
    "language_info": {
      "name": "python"
    }
  },
  "cells": [
    {
      "cell_type": "markdown",
      "metadata": {
        "id": "view-in-github",
        "colab_type": "text"
      },
      "source": [
        "<a href=\"https://colab.research.google.com/github/janastadtruckerova/Python-3-course/blob/main/Magic_8_ball.ipynb\" target=\"_parent\"><img src=\"https://colab.research.google.com/assets/colab-badge.svg\" alt=\"Open In Colab\"/></a>"
      ]
    },
    {
      "cell_type": "markdown",
      "source": [
        "**Magic 8-Ball**\n",
        "\n",
        "The Magic 8-Ball is a popular toy developed in the 1950s for fortune-telling or advice seeking.\n",
        "\n",
        "**A Magic8.py** Python program that can answer any “Yes” or “No” question with a different fortune each time it executes.\n",
        "\n",
        "Magic 8-Ball,  using the following 9 possible answers:\n",
        "\n",
        "Yes - definitely.\n",
        "It is decidedly so.\n",
        "Without a doubt.\n",
        "Reply hazy, try again.\n",
        "Ask again later.\n",
        "Better not tell you now.\n",
        "My sources say no.\n",
        "Outlook not so good.\n",
        "Very doubtful.\n",
        "\n"
      ],
      "metadata": {
        "id": "m0JSQAPrDSkP"
      }
    },
    {
      "cell_type": "markdown",
      "source": [
        "**Tasks:**\n",
        "\n",
        "**Setting up**\n",
        "- declare variable - name - I am asking Magic 8 - ball\n",
        "- Declare variable question - yes or no question"
      ],
      "metadata": {
        "id": "UBjzWKQoEPN_"
      }
    },
    {
      "cell_type": "markdown",
      "source": [
        ""
      ],
      "metadata": {
        "id": "fV5gLpx0EGjf"
      }
    },
    {
      "cell_type": "code",
      "source": [
        "name = \"Jana\"\n",
        "question = \"Will I win the loterry\"\n",
        "answerer = \"\""
      ],
      "metadata": {
        "id": "lQIeePmzJBvy"
      },
      "execution_count": null,
      "outputs": []
    },
    {
      "cell_type": "markdown",
      "source": [
        "**Generating random number**\n",
        "- import random module\n",
        "- create variable random_number - store randomly generated  value\n",
        "- assign function random.randint(1,9)"
      ],
      "metadata": {
        "id": "5POG17SjHARf"
      }
    },
    {
      "cell_type": "code",
      "source": [
        "import random\n",
        "random_number = random.randint(1,9)\n",
        "print(random_number)"
      ],
      "metadata": {
        "id": "JNSaAvZuIfMr"
      },
      "execution_count": null,
      "outputs": []
    },
    {
      "cell_type": "markdown",
      "source": [
        "**Control Flow**\n",
        "if/elif/elf statement"
      ],
      "metadata": {
        "id": "v6hH7538JgQz"
      }
    },
    {
      "cell_type": "code",
      "source": [
        "if random_number==1 : \n",
        "  answer = print(\"Yes - definitely\")\n",
        " elif random_ number == 2 :\n",
        "    answer = \"It is decidedly so.\"\n",
        "elif random_number == 3 :\n",
        "     answer = \"Without a doubt.\"\n",
        "elif random_number == 4 :\n",
        "       answer = \"Reply hazy, try again\"\n",
        " elif random_number = 5 :\n",
        "  answer = \"Ask again later.\"\n",
        "elif random_number = 6 :\n",
        "  answer = \"Better not tell you now.\"\n",
        "elif random_number= 7 :\n",
        "  answer = \"My sources say no.\"\n",
        "elif random_number = 8 :\n",
        "  answer = \"Outlook not so good.\"\n",
        "elif random_number = 9 :\n",
        "  answer = \"Very doubtful.\"  \n",
        "  else:\n",
        "    answer = \"Error\""
      ],
      "metadata": {
        "id": "9sEMp7AcJ0GB"
      },
      "execution_count": null,
      "outputs": []
    },
    {
      "cell_type": "markdown",
      "source": [
        "Setting  the result"
      ],
      "metadata": {
        "id": "C8xPftuANiwg"
      }
    },
    {
      "cell_type": "code",
      "source": [
        "print(name + \" asks: \" + question)\n",
        "print(\"Magic 8-Ball's answer: \" + answer)"
      ],
      "metadata": {
        "id": "-QA4Fp6GNo6s"
      },
      "execution_count": null,
      "outputs": []
    },
    {
      "cell_type": "markdown",
      "source": [
        ""
      ],
      "metadata": {
        "id": "GOaNMp-H6iVF"
      }
    },
    {
      "cell_type": "code",
      "source": [
        ""
      ],
      "metadata": {
        "id": "1tjU9F3I6jgp"
      },
      "execution_count": null,
      "outputs": []
    }
  ]
}