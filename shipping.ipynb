{
  "nbformat": 4,
  "nbformat_minor": 0,
  "metadata": {
    "colab": {
      "name": "shipping.ipynb",
      "provenance": [],
      "authorship_tag": "ABX9TyNTy1rDvAPIw8AxGay9ki9B",
      "include_colab_link": true
    },
    "kernelspec": {
      "name": "python3",
      "display_name": "Python 3"
    },
    "language_info": {
      "name": "python"
    }
  },
  "cells": [
    {
      "cell_type": "markdown",
      "metadata": {
        "id": "view-in-github",
        "colab_type": "text"
      },
      "source": [
        "<a href=\"https://colab.research.google.com/github/janastadtruckerova/Python-3-course/blob/main/shipping.ipynb\" target=\"_parent\"><img src=\"https://colab.research.google.com/assets/colab-badge.svg\" alt=\"Open In Colab\"/></a>"
      ]
    },
    {
      "cell_type": "markdown",
      "source": [
        "**Sal's Shipping**\n",
        "\n",
        "Sal runs the biggest shipping company in the tri-county area, Sal’s Shippers. Sal wants to make sure that every single one of his customers has the best, and most affordable experience shipping their packages.\n",
        "\n",
        "A program that will take the weight of a package and determine the cheapest way to ship that package using Sal’s Shippers.\n",
        "\n",
        "Sal’s Shippers has several different options for a customer to ship their package:\n",
        "\n",
        "*Ground Shipping*, which is a small flat charge plus a rate based on the weight of your package.\n",
        "*Ground Shipping Premium*, which is a much higher flat charge, but you aren’t charged for weight.\n",
        "*Drone Shipping (new)*, which has no flat charge, but the rate based on weight is triple the rate of ground shipping.\n",
        "Write a **shipping.py** Python program that asks the user for the weight of their package and then tells them which method of shipping is cheapest and how much it will cost to ship their package using Sal’s Shippers.\n",
        "Write a shipping.py Python program that asks the user for the weight of their package and then tells them which method of shipping is cheapest and how much it will cost to ship their package using Sal’s Shippers.\n",
        "\n",
        "\n"
      ],
      "metadata": {
        "id": "s6M1ZOsAZGUf"
      }
    },
    {
      "cell_type": "markdown",
      "source": [
        "**Definig variable weight, any value**"
      ],
      "metadata": {
        "id": "B20je7ini9Hn"
      }
    },
    {
      "cell_type": "code",
      "source": [
        "weight = 50"
      ],
      "metadata": {
        "id": "UPLT9Lqpiw2V"
      },
      "execution_count": 1,
      "outputs": []
    },
    {
      "cell_type": "markdown",
      "source": [
        "**Ground shipping**"
      ],
      "metadata": {
        "id": "hlAjIiypjRUR"
      }
    },
    {
      "cell_type": "code",
      "source": [
        "\n",
        "if weight <= 2:\n",
        "  cost_ground = weight * 1.5 + 20\n",
        "elif weight <= 6:\n",
        "  cost_ground = weight * 3.00 + 20\n",
        "elif weight <= 10:\n",
        "  cost_ground = weight * 4.00 + 20\n",
        "else:\n",
        "  cost_ground = weight * 4.75 + 20\n",
        "\n",
        "print(\"Ground Shipping $\", cost_ground)"
      ],
      "metadata": {
        "id": "yoiM-eEzjxxh"
      },
      "execution_count": null,
      "outputs": []
    },
    {
      "cell_type": "markdown",
      "source": [
        "**Ground shipping premium**\n",
        "create variable - cost gound premium, value not change, value 125"
      ],
      "metadata": {
        "id": "iiJaWYjPnXbH"
      }
    },
    {
      "cell_type": "code",
      "source": [
        "cost_ground_premium = 125.00\n",
        "print(cost_ground_premium)"
      ],
      "metadata": {
        "id": "fuhbKKeRncBD"
      },
      "execution_count": null,
      "outputs": []
    },
    {
      "cell_type": "markdown",
      "source": [
        "**Ground shipping drone**"
      ],
      "metadata": {
        "id": "-rF9t7PfoU0o"
      }
    },
    {
      "cell_type": "code",
      "source": [
        "if weight <= 2:\n",
        "  cost_drone = weight * 4.5\n",
        "elif weight <= 6:\n",
        "  cost_drone = weight * 9.00\n",
        "elif weight <= 10:\n",
        "  cost_drone = weight * 12.00\n",
        "else:\n",
        "  cost_drone = weight * 14.25\n",
        "\n",
        "print(cost_drone)"
      ],
      "metadata": {
        "id": "-drdtaAIox_O"
      },
      "execution_count": null,
      "outputs": []
    }
  ]
}